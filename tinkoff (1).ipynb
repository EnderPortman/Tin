{
  "nbformat": 4,
  "nbformat_minor": 0,
  "metadata": {
    "colab": {
      "provenance": [],
      "collapsed_sections": [
        "a2XF8lN7mnii",
        "ItHzganT2j0m",
        "POtAnmO7Cz4I"
      ]
    },
    "kernelspec": {
      "name": "python3",
      "display_name": "Python 3"
    },
    "language_info": {
      "name": "python"
    },
    "gpuClass": "standard",
    "accelerator": "GPU"
  },
  "cells": [
    {
      "cell_type": "code",
      "source": [
        "import torch\n",
        "import numpy as np\n",
        "import os\n",
        "import random\n",
        "from torch.utils.data import Dataset, DataLoader\n",
        "from torchvision import transforms\n",
        "from PIL import Image"
      ],
      "metadata": {
        "id": "QV4ObG4NOxX0"
      },
      "execution_count": null,
      "outputs": []
    },
    {
      "cell_type": "code",
      "execution_count": null,
      "metadata": {
        "id": "yJDkM4yUJxCF"
      },
      "outputs": [],
      "source": [
        "# для воспроизводимости результатов\n",
        "def set_seed(seed):\n",
        "    torch.manual_seed(seed)\n",
        "    torch.cuda.manual_seed_all(seed)\n",
        "    torch.backends.cudnn.deterministic = True\n",
        "    torch.backends.cudnn.benchmark = False\n",
        "    np.random.seed(seed)\n",
        "    random.seed(seed)\n",
        "    os.environ['PYTHONHASHSEED'] = str(seed)\n",
        "set_seed(30)"
      ]
    },
    {
      "cell_type": "code",
      "source": [
        "from google.colab import drive\n",
        "drive.mount('/content/drive')"
      ],
      "metadata": {
        "colab": {
          "base_uri": "https://localhost:8080/"
        },
        "id": "sgqOTgJ7jsJP",
        "outputId": "45812e3e-688e-46e9-d8a1-cab0e0681b27"
      },
      "execution_count": null,
      "outputs": [
        {
          "output_type": "stream",
          "name": "stdout",
          "text": [
            "Drive already mounted at /content/drive; to attempt to forcibly remount, call drive.mount(\"/content/drive\", force_remount=True).\n"
          ]
        }
      ]
    },
    {
      "cell_type": "markdown",
      "source": [
        "# Распаковка данных"
      ],
      "metadata": {
        "id": "Pl_SCSL3Py5A"
      }
    },
    {
      "cell_type": "markdown",
      "source": [
        "Разархивируем на месте, потому что так быстрее"
      ],
      "metadata": {
        "id": "s4FxJGBYu_xo"
      }
    },
    {
      "cell_type": "code",
      "source": [
        "!unzip -q /content/drive/MyDrive/CCPD2019-dl1.zip\n",
        "!ls CCPD2019-dl1"
      ],
      "metadata": {
        "id": "ZG6m-dBHP2Kv",
        "colab": {
          "base_uri": "https://localhost:8080/"
        },
        "outputId": "77a635d2-9bb3-440c-df16-bf20fb162b2c"
      },
      "execution_count": null,
      "outputs": [
        {
          "output_type": "stream",
          "name": "stdout",
          "text": [
            "test  train\n"
          ]
        }
      ]
    },
    {
      "cell_type": "markdown",
      "source": [
        "Посмотрим на названия\n"
      ],
      "metadata": {
        "id": "RNPaROuwlIlS"
      }
    },
    {
      "cell_type": "code",
      "source": [
        "#!ls CCPD2019-dl1/test"
      ],
      "metadata": {
        "id": "BzSRBLOwhrGZ"
      },
      "execution_count": null,
      "outputs": []
    },
    {
      "cell_type": "markdown",
      "source": [
        "*   Each LP number is comprised of a Chinese character, a letter, and five letters or numbers. A valid Chinese license plate consists of seven characters: province (1 character), alphabets (1 character), alphabets+digits (5 characters)"
      ],
      "metadata": {
        "id": "t0FCA2C7p5_u"
      }
    },
    {
      "cell_type": "code",
      "source": [
        "!ls"
      ],
      "metadata": {
        "colab": {
          "base_uri": "https://localhost:8080/"
        },
        "id": "Co1PREP_sgXd",
        "outputId": "7cfd7686-e95b-4487-93a6-7a8f76498b61"
      },
      "execution_count": null,
      "outputs": [
        {
          "output_type": "stream",
          "name": "stdout",
          "text": [
            "CCPD2019-dl1  drive  sample_data\n"
          ]
        }
      ]
    },
    {
      "cell_type": "code",
      "source": [
        "from pathlib import Path\n",
        "device = torch.device('cuda' if torch.cuda.is_available() else 'cpu')\n",
        "train_dir = Path('CCPD2019-dl1/train')\n",
        "test_dir = Path('CCPD2019-dl1/test')\n",
        "train_files = list(train_dir.rglob('*.jpg'))\n",
        "test_files = list(test_dir.rglob('*.jpg'))\n",
        "print('Train size:', len(train_files))\n",
        "print('Test size:', len(test_files))"
      ],
      "metadata": {
        "colab": {
          "base_uri": "https://localhost:8080/"
        },
        "id": "Yt6MIlo6hqqC",
        "outputId": "09137dfd-d04b-4850-e849-9a0535ae1e79"
      },
      "execution_count": null,
      "outputs": [
        {
          "output_type": "stream",
          "name": "stdout",
          "text": [
            "Train size: 199980\n",
            "Test size: 9999\n"
          ]
        }
      ]
    },
    {
      "cell_type": "markdown",
      "source": [
        "# Посмотрим на данные"
      ],
      "metadata": {
        "id": "a2XF8lN7mnii"
      }
    },
    {
      "cell_type": "code",
      "source": [
        "class LP_Dataset(Dataset):\n",
        "    \"\"\"\n",
        "    Датасет с картинками, который паралельно подгружает их из папок\n",
        "    производит скалирование и превращение в тензоры\n",
        "    \"\"\"\n",
        "    def __init__(self, files):\n",
        "        super().__init__()\n",
        "        # список файлов для загрузки\n",
        "        self.files = sorted(files)\n",
        "\n",
        "        self.len_ = len(self.files)\n",
        "\n",
        "        self.labels = [path.name for path in self.files]\n",
        "                      \n",
        "    def __len__(self):\n",
        "        return self.len_\n",
        "      \n",
        "    def load_sample(self, file):\n",
        "        image = Image.open(file)\n",
        "        image.load()\n",
        "        return image\n",
        "  \n",
        "    def __getitem__(self, index):\n",
        "        # для преобразования изображений в тензоры\n",
        "        transform = transforms.Compose([\n",
        "            transforms.ToTensor(),\n",
        "        ])\n",
        "        x = self.load_sample(self.files[index])\n",
        "        x = transform(x)\n",
        "\n",
        "        label = self.labels[index]\n",
        "        return x, label"
      ],
      "metadata": {
        "id": "Rn5kHQjgnxOs"
      },
      "execution_count": null,
      "outputs": []
    },
    {
      "cell_type": "markdown",
      "source": [
        "Вывод размеров нескольких изображений показал, что размеры у всех разные, но примерно в одном диапазоне.\n",
        "Также вывод нескольких тензоров показал, что все изображения уже нормализованы:"
      ],
      "metadata": {
        "id": "9KAMMFBDHU7a"
      }
    },
    {
      "cell_type": "code",
      "source": [
        "train_dataset = LP_Dataset(train_files)"
      ],
      "metadata": {
        "id": "6CfnA0vTIbHO"
      },
      "execution_count": null,
      "outputs": []
    },
    {
      "cell_type": "markdown",
      "source": [
        "Так как размеры трэйна велики, то посчитаем на произвольных картинках трэйна"
      ],
      "metadata": {
        "id": "z6RVSxCsTwCA"
      }
    },
    {
      "cell_type": "code",
      "source": [
        "from numpy.matrixlib.defmatrix import N\n",
        "w_all, h_all, mean, total = 0, 0, [0, 0, 0], 0\n",
        "t = np.random.randint(0, 199979, 20000)\n",
        "for i in t:\n",
        "  for j in range(3):\n",
        "    mean[j] += train_dataset[i][0][j].sum()\n",
        "    total += train_dataset[i][0].shape[1] * train_dataset[i][0].shape[2]\n",
        "  n, w, h = train_dataset[i][0].shape\n",
        "  w_all += w\n",
        "  h_all += h"
      ],
      "metadata": {
        "id": "voXrt-2rHUQN"
      },
      "execution_count": null,
      "outputs": []
    },
    {
      "cell_type": "code",
      "source": [
        "mean = [x/total for x in mean]\n",
        "std = [0, 0, 0]\n",
        "for i in t:\n",
        "  for j in range(3):\n",
        "    std[j] += train_dataset[i][0][j].mean() - mean[j]\n",
        "std = [x/total for x in std]\n",
        "print(w_all/20000, h_all/20000, mean, std)\n",
        "del train_dataset\n",
        "del total\n",
        "del t"
      ],
      "metadata": {
        "colab": {
          "base_uri": "https://localhost:8080/"
        },
        "id": "aH-TuBcjSfxm",
        "outputId": "f8725d5a-6438-400d-8f32-57ebb1a050c6"
      },
      "execution_count": null,
      "outputs": [
        {
          "output_type": "stream",
          "name": "stdout",
          "text": [
            "85.0812 250.8 [tensor(0.0885), tensor(0.1413), tensor(0.2097)] [tensor(2.6549e-06), tensor(4.2159e-06), tensor(6.2737e-06)]\n"
          ]
        }
      ]
    },
    {
      "cell_type": "markdown",
      "source": [
        "# Обработка данных с кодированием, масштабированием"
      ],
      "metadata": {
        "id": "mzvwXpKSmZd8"
      }
    },
    {
      "cell_type": "markdown",
      "source": [
        "Есть ощущение, что первые 4 цифры в названии изображения что-то обозначают, однако не хочу слепо верить этому, поэтому кодирую только само значение номера."
      ],
      "metadata": {
        "id": "H-TAI9B5xTFG"
      }
    },
    {
      "cell_type": "code",
      "source": [
        "#resc_w, resc_h = w_all, h_all\n",
        "resc = 384 # для модели нужны такие размеры\n",
        "mean = [0.0885, 0.1413, 0.2097]\n",
        "std = [2.6549e-06, 4.2159e-06, 6.2737e-06]"
      ],
      "metadata": {
        "id": "7FZVIVoghry8"
      },
      "execution_count": null,
      "outputs": []
    },
    {
      "cell_type": "markdown",
      "source": [
        "Кодируем номер автомобиля в матрицу стбц-стр = символ-позиция. На пересечении единицу ставим.\n",
        "Беру непрямоугольный массив, чтобы было меньше поводов для ошибки сети. "
      ],
      "metadata": {
        "id": "W-Rld2-8EyqT"
      }
    },
    {
      "cell_type": "code",
      "source": [
        "import itertools\n",
        "def flatten(arr):\n",
        "  return list(itertools.chain.from_iterable(arr))\n",
        "\n",
        "provinces = dict(zip([\"皖\", \"沪\", \"津\", \"渝\", \"冀\", \"晋\", \"蒙\", \"辽\", \"吉\", \"黑\", \"苏\", \"浙\", \"京\", \"闽\", \"赣\", \"鲁\", \"豫\", \"鄂\", \"湘\", \"粤\", \"桂\", \"琼\",\n",
        "                      \"川\", \"贵\", \"云\", \"藏\", \"陕\", \"甘\", \"青\", \"宁\", \"新\", \"警\", \"学\", \"O\"], range(34)))\n",
        "alphabets = dict(zip(['A', 'B', 'C', 'D', 'E', 'F', 'G', 'H', 'J', 'K', 'L', 'M', 'N', 'P', 'Q', 'R', 'S', 'T', 'U', 'V', 'W', 'X', 'Y', 'Z', 'O'],\n",
        "                     range(25)))\n",
        "ads = dict(zip(['A', 'B', 'C', 'D', 'E', 'F', 'G', 'H', 'J', 'K', 'L', 'M', 'N', 'P', 'Q', 'R', 'S', 'T', 'U', 'V', 'W', 'X',\n",
        "       'Y', 'Z', '0', '1', '2', '3', '4', '5', '6', '7', '8', '9', 'O'], range(35)))\n",
        "\n",
        "# кажется, буква О заменяет плохораспознаваемые символы, так что оставим ёё\n",
        "def encode(name):\n",
        "  name = name.split(sep='-')[1][:-4]\n",
        "  a = [[0]*34, [0]*25] + [[0]*35 for i in range(5)]\n",
        "  a[0][ provinces[name[0]] ] = 1\n",
        "  a[1][ alphabets[name[1]] ] = 1\n",
        "  for i in range(2, 7):\n",
        "    a[i][ ads[name[i]] ] = 1\n",
        "  return flatten(a)\n",
        "\n",
        "# сразу напишем декодер\n",
        "\n",
        "inverse_provinces = {v: k for k, v in provinces.items()}\n",
        "inverse_alphabets = {v: k for k, v in alphabets.items()}\n",
        "inverse_ads = {v: k for k, v in ads.items()}\n",
        "\n",
        "def decode(arrs, names= False):\n",
        "  n = arrs.size()[0]\n",
        "  out = torch.zeros(n, 234, device= device)\n",
        "  \n",
        "  for i in range(n):\n",
        "    name = ''\n",
        "    arr = arrs[i]\n",
        "\n",
        "    # для превращения вероятностей принадлежности к классу в метки классов=символов\n",
        "    pred = torch.zeros(234, device= device)\n",
        "    pred[torch.argmax(arr[:34])] = 1\n",
        "    pred[torch.argmax(arr[34:59])] = 1\n",
        "    for j in range(5):\n",
        "       pred[torch.argmax(arr[59 + 35*j: 94 + 35*j])] = 1\n",
        "    out[i] = pred\n",
        "    \n",
        "    if names:\n",
        "      # это для превращения  векторов с единицами в номера автомобилей\n",
        "      ind = torch.nonzero(arr[:34])[0].item()  # индекс 1 в части массива с провинцией\n",
        "      name += inverse_provinces[ind]\n",
        "  \n",
        "      ind = torch.nonzero(arr[34:59])[0].item() # индекс 1 в части массива с буквой\n",
        "      name += inverse_alphabets[ind]\n",
        "\n",
        "      for j in range(5):\n",
        "        ind = torch.nonzero(arr[59 + 35*j: 94 + 35*j])[0].item()\n",
        "        name += inverse_ads[ind]\n",
        "\n",
        "      out[i] = name\n",
        "      del arr\n",
        "  return out"
      ],
      "metadata": {
        "id": "rxD-S5Snjweg"
      },
      "execution_count": null,
      "outputs": []
    },
    {
      "cell_type": "code",
      "source": [
        "class LP_Dataset(Dataset):\n",
        "    \"\"\"\n",
        "    Датасет с картинками, который паралельно подгружает их из папок\n",
        "    производит скалирование и превращение в торчевые тензоры\n",
        "    \"\"\"\n",
        "    def __init__(self, files):\n",
        "        super().__init__()\n",
        "        # список файлов для загрузки\n",
        "        self.files = sorted(files)\n",
        "\n",
        "        self.len_ = len(self.files)\n",
        "        self.labels = torch.Tensor([encode(path.name) for path in self.files])\n",
        "                      \n",
        "    def __len__(self):\n",
        "        return self.len_\n",
        "      \n",
        "    def load_sample(self, file):\n",
        "        image = Image.open(file)\n",
        "        image.load()\n",
        "        return image\n",
        "  \n",
        "    def __getitem__(self, index):\n",
        "        # для преобразования изображений в тензоры\n",
        "        transform = transforms.Compose([\n",
        "            transforms.ToTensor(),\n",
        "            transforms.Normalize(mean, std)\n",
        "        ])\n",
        "        x = self.load_sample(self.files[index])\n",
        "        x = self._prepare_sample(x)\n",
        "        x = transform(x)\n",
        "        label = self.labels[index]\n",
        "        return x, label\n",
        "  \n",
        "    def _prepare_sample(self, image):   # наставляет паддинг, чтобы не изменялись пропорции изображения\n",
        "        w, h = image.size\n",
        "        max_wh = np.max([w, h])\n",
        "        min_wh = np.min([w, h])\n",
        "  \n",
        "        hp = int((max_wh - w) / 2)\n",
        "        vp = int((max_wh - h) / 2)\n",
        "        padding = (hp, vp, hp, vp)\n",
        "\n",
        "        image = transforms.functional.pad(image, padding, 0, 'constant')    \n",
        "        image = image.resize((resc, resc)) # ресайзим для нашей сети\n",
        "        return np.array(image)"
      ],
      "metadata": {
        "id": "oqP4PtpSUw4W"
      },
      "execution_count": null,
      "outputs": []
    },
    {
      "cell_type": "code",
      "source": [
        "train_dataset = LP_Dataset(train_files)\n",
        "test_dataset = LP_Dataset(test_files)"
      ],
      "metadata": {
        "id": "6iAYPrYnUvl0"
      },
      "execution_count": null,
      "outputs": []
    },
    {
      "cell_type": "markdown",
      "source": [
        "При добавлении аугментации часть картинок выводилась просто серой, с чем непонятно как бороться, так что оставлю без аугментации. Всё равно у всех картинок очень разное качество, так что модель научиться распознавать и их."
      ],
      "metadata": {
        "id": "fPHByMK6CchU"
      }
    },
    {
      "cell_type": "code",
      "source": [
        "import matplotlib.pyplot as plt\n",
        "\n",
        "def imshow(inp, title=None, plt_ax=plt, default=False):\n",
        "    \"\"\"Imshow для тензоров\"\"\"\n",
        "    inp = inp.numpy().transpose((1, 2, 0))\n",
        "    inp = std * inp + mean\n",
        "    inp = np.clip(inp, 0, 1)\n",
        "    plt_ax.imshow(inp)\n",
        "    plt_ax.grid(False)\n",
        "\n",
        "fig, ax = plt.subplots(nrows=3, ncols=3,figsize=(8, 8), \\\n",
        "                        sharey=True, sharex=True)\n",
        "for fig_x in ax.flatten():\n",
        "    im_tr = train_dataset[np.random.randint(0, 199979, 1)[0]]    \n",
        "    imshow(im_tr[0], plt_ax=fig_x)"
      ],
      "metadata": {
        "colab": {
          "base_uri": "https://localhost:8080/",
          "height": 487
        },
        "id": "YYeLdctT63wd",
        "outputId": "3240a0ac-4db0-480b-e0bc-466f78175c47"
      },
      "execution_count": null,
      "outputs": [
        {
          "output_type": "display_data",
          "data": {
            "text/plain": [
              "<Figure size 576x576 with 9 Axes>"
            ],
            "image/png": "[encoded data removed]"
          },
          "metadata": {
            "needs_background": "light"
          }
        }
      ]
    },
    {
      "cell_type": "markdown",
      "source": [
        "# Размер батча и эпохи"
      ],
      "metadata": {
        "id": "ItHzganT2j0m"
      }
    },
    {
      "cell_type": "code",
      "source": [
        "batch_size = 16\n",
        "n_epochs = 40\n",
        "train_loader = torch.utils.data.DataLoader(train_dataset, batch_size=batch_size, shuffle=True)\n",
        "test_loader = torch.utils.data.DataLoader(test_dataset, batch_size=batch_size, shuffle=False)"
      ],
      "metadata": {
        "id": "YS9jwYtjmFGV"
      },
      "execution_count": null,
      "outputs": []
    },
    {
      "cell_type": "markdown",
      "source": [
        "# Модель"
      ],
      "metadata": {
        "id": "POtAnmO7Cz4I"
      }
    },
    {
      "cell_type": "markdown",
      "source": [
        "В этой модели небольшое количество параметров и она очень быстрая, а так же ее точность высока.\n",
        "я пробовала efficientnet b5, однако гпу быстро переполняется."
      ],
      "metadata": {
        "id": "4jXqry4UCvva"
      }
    },
    {
      "cell_type": "code",
      "source": [
        "from torchvision.models import mobilenet_v2\n",
        "model = mobilenet_v2(weights= None)\n",
        "model.classifier"
      ],
      "metadata": {
        "colab": {
          "base_uri": "https://localhost:8080/"
        },
        "id": "-z0yV4Ne07Iq",
        "outputId": "95dd6e04-6361-4686-e3d2-dafb81e1a24b"
      },
      "execution_count": null,
      "outputs": [
        {
          "output_type": "execute_result",
          "data": {
            "text/plain": [
              "Sequential(\n",
              "  (0): Dropout(p=0.2, inplace=False)\n",
              "  (1): Linear(in_features=1280, out_features=1000, bias=True)\n",
              ")"
            ]
          },
          "metadata": {},
          "execution_count": 15
        }
      ]
    },
    {
      "cell_type": "code",
      "source": [
        "import torch.nn as nn\n",
        "model.classifier = nn.Sequential(\n",
        "    nn.Dropout(p=0.2, inplace=True),\n",
        "    nn.Linear(in_features=1280, out_features= 234,bias= True)\n",
        ")\n",
        "model = model.to(device)"
      ],
      "metadata": {
        "id": "WglijUV92RBK"
      },
      "execution_count": null,
      "outputs": []
    },
    {
      "cell_type": "markdown",
      "source": [
        "# Обучение"
      ],
      "metadata": {
        "id": "KVxVB3c-7sTh"
      }
    },
    {
      "cell_type": "markdown",
      "source": [],
      "metadata": {
        "id": "GhMKWDjfC5oG"
      }
    },
    {
      "cell_type": "code",
      "source": [
        "!pip install torchmetrics"
      ],
      "metadata": {
        "colab": {
          "base_uri": "https://localhost:8080/"
        },
        "id": "qX1_jnfRj5Gc",
        "outputId": "edf545a3-4b3e-4517-943d-51a693588243"
      },
      "execution_count": null,
      "outputs": [
        {
          "output_type": "stream",
          "name": "stdout",
          "text": [
            "Looking in indexes: https://pypi.org/simple, https://us-python.pkg.dev/colab-wheels/public/simple/\n",
            "Collecting torchmetrics\n",
            "  Downloading torchmetrics-0.11.0-py3-none-any.whl (512 kB)\n",
            "\u001b[2K     \u001b[90m━━━━━━━━━━━━━━━━━━━━━━━━━━━━━━━━━━━━━━\u001b[0m \u001b[32m512.4/512.4 KB\u001b[0m \u001b[31m33.6 MB/s\u001b[0m eta \u001b[36m0:00:00\u001b[0m\n",
            "\u001b[?25hRequirement already satisfied: packaging in /usr/local/lib/python3.8/dist-packages (from torchmetrics) (21.3)\n",
            "Requirement already satisfied: numpy>=1.17.2 in /usr/local/lib/python3.8/dist-packages (from torchmetrics) (1.21.6)\n",
            "Requirement already satisfied: typing-extensions in /usr/local/lib/python3.8/dist-packages (from torchmetrics) (4.4.0)\n",
            "Requirement already satisfied: torch>=1.8.1 in /usr/local/lib/python3.8/dist-packages (from torchmetrics) (1.13.0+cu116)\n",
            "Requirement already satisfied: pyparsing!=3.0.5,>=2.0.2 in /usr/local/lib/python3.8/dist-packages (from packaging->torchmetrics) (3.0.9)\n",
            "Installing collected packages: torchmetrics\n",
            "Successfully installed torchmetrics-0.11.0\n"
          ]
        }
      ]
    },
    {
      "cell_type": "code",
      "source": [
        "import torchmetrics\n",
        "metric = torchmetrics.functional.char_error_rate"
      ],
      "metadata": {
        "id": "ygfplisRjKdx"
      },
      "execution_count": null,
      "outputs": []
    },
    {
      "cell_type": "code",
      "source": [
        "def eval_epoch(model, test_loader, criterion):\n",
        "    model.eval()\n",
        "    running_loss = 0.0\n",
        "    running_corrects = 0\n",
        "    running_cer = 0\n",
        "    processed_size = 0\n",
        "\n",
        "    for inputs, labels in test_loader:\n",
        "        inputs = inputs.to(device)\n",
        "        labels = labels.to(device)\n",
        "\n",
        "        with torch.set_grad_enabled(False):\n",
        "            outputs = model(inputs)\n",
        "            loss = criterion(outputs, labels)\n",
        "            preds = decode(outputs)\n",
        "\n",
        "        running_loss += loss.item() * inputs.size(0)\n",
        "        running_corrects += torch.sum(preds == labels.data)\n",
        "        running_cer += metric(preds, labels)\n",
        "        processed_size += inputs.size(0)\n",
        "    test_loss = running_loss / processed_size\n",
        "    test_acc = running_corrects.double() / processed_size\n",
        "    test_cer = running_cer.double() /processed_size\n",
        "    return test_loss, test_acc, test_cer"
      ],
      "metadata": {
        "id": "vZZIZcifbTrt"
      },
      "execution_count": null,
      "outputs": []
    },
    {
      "cell_type": "code",
      "source": [
        "def fit_epoch(model, train_loader, criterion, optimizer, scheduler):\n",
        "    running_loss = 0.0\n",
        "    running_corrects = 0\n",
        "    running_cer = 0\n",
        "    processed_data = 0\n",
        "    scheduler.step()         \n",
        "    \n",
        "    for inputs, labels in train_loader:\n",
        "        inputs = inputs.to(device)\n",
        "        labels = labels.to(device)\n",
        "        optimizer.zero_grad()\n",
        "\n",
        "        outputs = model(inputs)\n",
        "        loss = criterion(outputs, labels)\n",
        "        loss.backward()\n",
        "        optimizer.step()\n",
        "        preds = decode(outputs)\n",
        "        running_loss += loss.item() * inputs.size(0)\n",
        "        running_corrects += torch.sum(preds == labels.data)\n",
        "        running_cer += metric(preds, labels)\n",
        "        processed_data += inputs.size(0)\n",
        "    \n",
        "    train_loss = running_loss / processed_data\n",
        "    train_acc = running_corrects.cpu().numpy() / processed_data\n",
        "    train_cer = running_cer.cpu().numpy() /processed_data\n",
        "    return train_loss, train_acc, train_cer"
      ],
      "metadata": {
        "id": "2R2cW7p3bcWi"
      },
      "execution_count": null,
      "outputs": []
    },
    {
      "cell_type": "code",
      "source": [
        "def gr(tr_acc, te_acc, tr_loss, te_loss, tr_cer, te_cer): # для построения графиков после каждой эпохи\n",
        "  n = len(te_loss) + 1\n",
        "\n",
        "  pb = plt.figure(figsize=(18, 3))\n",
        "  pb.add_subplot(1, 3, 1)\n",
        "  plt.plot(range(1, n), te_cer, label = 'test')\n",
        "  plt.plot(range(1, n), tr_cer, label = 'train')\n",
        "  plt.title('Char Error Rate')\n",
        "  plt.xlabel('Epochs')\n",
        "  plt.ylabel('CER')\n",
        "  plt.legend(loc='best')\n",
        "\n",
        "  pb.add_subplot(1, 3, 2)\n",
        "  plt.plot(range(1, n), te_acc, label = 'test')\n",
        "  plt.plot(range(1, n), tr_acc, label = 'train')\n",
        "  plt.title('Accuracy')\n",
        "  plt.xlabel('Epochs')\n",
        "  plt.ylabel('Accuracy')\n",
        "  plt.legend(loc='best')\n",
        "\n",
        "  pb.add_subplot(1, 3, 3)\n",
        "  plt.plot(range(1, n), te_loss, label = 'test')\n",
        "  plt.plot(range(1, n), tr_loss, label = 'train')\n",
        "  plt.title('Loss')\n",
        "  plt.xlabel('Epochs')\n",
        "  plt.ylabel('loss')\n",
        "  plt.legend(loc='best')\n",
        "\n",
        "  plt.show()"
      ],
      "metadata": {
        "id": "3mkxqVsArv_s"
      },
      "execution_count": null,
      "outputs": []
    },
    {
      "cell_type": "code",
      "source": [
        "from torch.optim import lr_scheduler\n",
        "from tqdm import tqdm, tqdm_notebook\n",
        "from IPython.display import clear_output\n",
        "def train(train_loader, val_loader, model, epochs, batch_size):\n",
        "\n",
        "    best_model_wts = model.state_dict()\n",
        "    best_acc = 0.0\n",
        "\n",
        "    history = []\n",
        "    log_template = \"\\nEpoch {ep:03d} train_loss: {t_loss:0.4f} \\\n",
        "    val_loss {v_loss:0.4f} train_acc {t_acc:0.4f} val_acc {v_acc:0.4f}\"\n",
        "\n",
        "    with tqdm(desc=\"epoch\", total=epochs) as pbar_outer:\n",
        "        opt = torch.optim.Adam(model.parameters())\n",
        "        criterion = nn.CrossEntropyLoss()\n",
        "        optimizer_ft = torch.optim.Adam(model.parameters(), lr=1e-4)\n",
        "        exp_lr_scheduler = lr_scheduler.StepLR(optimizer_ft, step_size=4, gamma=0.1)\n",
        "\n",
        "        for epoch in range(epochs):\n",
        "            train_loss, train_acc, train_cer = fit_epoch(model, train_loader, criterion, opt, exp_lr_scheduler)\n",
        "            print(\"loss\", train_loss)\n",
        "            \n",
        "            val_loss, val_acc, val_cer = eval_epoch(model, val_loader, criterion)\n",
        "            history.append((train_loss, train_acc,train_cer, val_loss, val_acc, val_cer))\n",
        "            \n",
        "            if val_acc > best_acc:\n",
        "                best_acc = val_acc\n",
        "                best_model_wts = model.state_dict()\n",
        "            \n",
        "            pbar_outer.update(1)\n",
        "            tqdm.write(log_template.format(ep=epoch+1, t_loss=train_loss,\\\n",
        "                                           v_loss=val_loss, t_acc=train_acc, v_acc=val_acc))\n",
        "            print('Best val Acc: {:4f}'.format(best_acc))\n",
        "            gr(train_acc, val_acc, train_loss, val_loss, train_cer, val_cer)\n",
        "            if epoch < epochs - 1:\n",
        "              clear_output(wait= True)\n",
        "\n",
        "    # загрузим лучшие веса модели\n",
        "    model.load_state_dict(best_model_wts)\n",
        "    return history"
      ],
      "metadata": {
        "id": "lxuznlMbaFdt"
      },
      "execution_count": null,
      "outputs": []
    },
    {
      "cell_type": "code",
      "source": [
        "history = train(train_loader, test_loader, model, n_epochs, batch_size)"
      ],
      "metadata": {
        "colab": {
          "base_uri": "https://localhost:8080/",
          "height": 383
        },
        "id": "wiZJZU6wlKq8",
        "outputId": "8c9e271d-6101-45cf-c456-c08847c2fb82"
      },
      "execution_count": null,
      "outputs": [
        {
          "output_type": "stream",
          "name": "stderr",
          "text": [
            "\repoch:   0%|          | 0/40 [00:00<?, ?it/s]/usr/local/lib/python3.8/dist-packages/torch/optim/lr_scheduler.py:138: UserWarning: Detected call of `lr_scheduler.step()` before `optimizer.step()`. In PyTorch 1.1.0 and later, you should call them in the opposite order: `optimizer.step()` before `lr_scheduler.step()`.  Failure to do this will result in PyTorch skipping the first value of the learning rate schedule. See more details at https://pytorch.org/docs/stable/optim.html#how-to-adjust-learning-rate\n",
            "  warnings.warn(\"Detected call of `lr_scheduler.step()` before `optimizer.step()`. \"\n",
            "epoch:   0%|          | 0/40 [04:27<?, ?it/s]\n"
          ]
        },
        {
          "output_type": "error",
          "ename": "KeyboardInterrupt",
          "evalue": "ignored",
          "traceback": [
            "\u001b[0;31m---------------------------------------------------------------------------\u001b[0m",
            "\u001b[0;31mKeyboardInterrupt\u001b[0m                         Traceback (most recent call last)",
            "\u001b[0;32m<ipython-input-47-9a7de579f865>\u001b[0m in \u001b[0;36m<module>\u001b[0;34m\u001b[0m\n\u001b[0;32m----> 1\u001b[0;31m \u001b[0mhistory\u001b[0m \u001b[0;34m=\u001b[0m \u001b[0mtrain\u001b[0m\u001b[0;34m(\u001b[0m\u001b[0mtrain_loader\u001b[0m\u001b[0;34m,\u001b[0m \u001b[0mtest_loader\u001b[0m\u001b[0;34m,\u001b[0m \u001b[0mmodel\u001b[0m\u001b[0;34m,\u001b[0m \u001b[0mn_epochs\u001b[0m\u001b[0;34m,\u001b[0m \u001b[0mbatch_size\u001b[0m\u001b[0;34m)\u001b[0m\u001b[0;34m\u001b[0m\u001b[0;34m\u001b[0m\u001b[0m\n\u001b[0m",
            "\u001b[0;32m<ipython-input-46-e52b008f84f6>\u001b[0m in \u001b[0;36mtrain\u001b[0;34m(train_loader, val_loader, model, epochs, batch_size)\u001b[0m\n\u001b[1;32m     18\u001b[0m \u001b[0;34m\u001b[0m\u001b[0m\n\u001b[1;32m     19\u001b[0m         \u001b[0;32mfor\u001b[0m \u001b[0mepoch\u001b[0m \u001b[0;32min\u001b[0m \u001b[0mrange\u001b[0m\u001b[0;34m(\u001b[0m\u001b[0mepochs\u001b[0m\u001b[0;34m)\u001b[0m\u001b[0;34m:\u001b[0m\u001b[0;34m\u001b[0m\u001b[0;34m\u001b[0m\u001b[0m\n\u001b[0;32m---> 20\u001b[0;31m             \u001b[0mtrain_loss\u001b[0m\u001b[0;34m,\u001b[0m \u001b[0mtrain_acc\u001b[0m\u001b[0;34m,\u001b[0m \u001b[0mtrain_cer\u001b[0m \u001b[0;34m=\u001b[0m \u001b[0mfit_epoch\u001b[0m\u001b[0;34m(\u001b[0m\u001b[0mmodel\u001b[0m\u001b[0;34m,\u001b[0m \u001b[0mtrain_loader\u001b[0m\u001b[0;34m,\u001b[0m \u001b[0mcriterion\u001b[0m\u001b[0;34m,\u001b[0m \u001b[0mopt\u001b[0m\u001b[0;34m,\u001b[0m \u001b[0mexp_lr_scheduler\u001b[0m\u001b[0;34m)\u001b[0m\u001b[0;34m\u001b[0m\u001b[0;34m\u001b[0m\u001b[0m\n\u001b[0m\u001b[1;32m     21\u001b[0m             \u001b[0mprint\u001b[0m\u001b[0;34m(\u001b[0m\u001b[0;34m\"loss\"\u001b[0m\u001b[0;34m,\u001b[0m \u001b[0mtrain_loss\u001b[0m\u001b[0;34m)\u001b[0m\u001b[0;34m\u001b[0m\u001b[0;34m\u001b[0m\u001b[0m\n\u001b[1;32m     22\u001b[0m \u001b[0;34m\u001b[0m\u001b[0m\n",
            "\u001b[0;32m<ipython-input-44-c2ca1bacaba9>\u001b[0m in \u001b[0;36mfit_epoch\u001b[0;34m(model, train_loader, criterion, optimizer, scheduler)\u001b[0m\n\u001b[1;32m     18\u001b[0m         \u001b[0mrunning_loss\u001b[0m \u001b[0;34m+=\u001b[0m \u001b[0mloss\u001b[0m\u001b[0;34m.\u001b[0m\u001b[0mitem\u001b[0m\u001b[0;34m(\u001b[0m\u001b[0;34m)\u001b[0m \u001b[0;34m*\u001b[0m \u001b[0minputs\u001b[0m\u001b[0;34m.\u001b[0m\u001b[0msize\u001b[0m\u001b[0;34m(\u001b[0m\u001b[0;36m0\u001b[0m\u001b[0;34m)\u001b[0m\u001b[0;34m\u001b[0m\u001b[0;34m\u001b[0m\u001b[0m\n\u001b[1;32m     19\u001b[0m         \u001b[0mrunning_corrects\u001b[0m \u001b[0;34m+=\u001b[0m \u001b[0mtorch\u001b[0m\u001b[0;34m.\u001b[0m\u001b[0msum\u001b[0m\u001b[0;34m(\u001b[0m\u001b[0mpreds\u001b[0m \u001b[0;34m==\u001b[0m \u001b[0mlabels\u001b[0m\u001b[0;34m.\u001b[0m\u001b[0mdata\u001b[0m\u001b[0;34m)\u001b[0m\u001b[0;34m\u001b[0m\u001b[0;34m\u001b[0m\u001b[0m\n\u001b[0;32m---> 20\u001b[0;31m         \u001b[0mrunning_cer\u001b[0m \u001b[0;34m+=\u001b[0m \u001b[0mmetric\u001b[0m\u001b[0;34m(\u001b[0m\u001b[0mpreds\u001b[0m\u001b[0;34m,\u001b[0m \u001b[0mlabels\u001b[0m\u001b[0;34m)\u001b[0m\u001b[0;34m\u001b[0m\u001b[0;34m\u001b[0m\u001b[0m\n\u001b[0m\u001b[1;32m     21\u001b[0m         \u001b[0mprocessed_data\u001b[0m \u001b[0;34m+=\u001b[0m \u001b[0minputs\u001b[0m\u001b[0;34m.\u001b[0m\u001b[0msize\u001b[0m\u001b[0;34m(\u001b[0m\u001b[0;36m0\u001b[0m\u001b[0;34m)\u001b[0m\u001b[0;34m\u001b[0m\u001b[0;34m\u001b[0m\u001b[0m\n\u001b[1;32m     22\u001b[0m \u001b[0;34m\u001b[0m\u001b[0m\n",
            "\u001b[0;32m/usr/local/lib/python3.8/dist-packages/torchmetrics/functional/text/cer.py\u001b[0m in \u001b[0;36mchar_error_rate\u001b[0;34m(preds, target)\u001b[0m\n\u001b[1;32m     80\u001b[0m         \u001b[0mtensor\u001b[0m\u001b[0;34m(\u001b[0m\u001b[0;36m0.3415\u001b[0m\u001b[0;34m)\u001b[0m\u001b[0;34m\u001b[0m\u001b[0;34m\u001b[0m\u001b[0m\n\u001b[1;32m     81\u001b[0m     \"\"\"\n\u001b[0;32m---> 82\u001b[0;31m     \u001b[0merrors\u001b[0m\u001b[0;34m,\u001b[0m \u001b[0mtotal\u001b[0m \u001b[0;34m=\u001b[0m \u001b[0m_cer_update\u001b[0m\u001b[0;34m(\u001b[0m\u001b[0mpreds\u001b[0m\u001b[0;34m,\u001b[0m \u001b[0mtarget\u001b[0m\u001b[0;34m)\u001b[0m\u001b[0;34m\u001b[0m\u001b[0;34m\u001b[0m\u001b[0m\n\u001b[0m\u001b[1;32m     83\u001b[0m     \u001b[0;32mreturn\u001b[0m \u001b[0m_cer_compute\u001b[0m\u001b[0;34m(\u001b[0m\u001b[0merrors\u001b[0m\u001b[0;34m,\u001b[0m \u001b[0mtotal\u001b[0m\u001b[0;34m)\u001b[0m\u001b[0;34m\u001b[0m\u001b[0;34m\u001b[0m\u001b[0m\n",
            "\u001b[0;32m/usr/local/lib/python3.8/dist-packages/torchmetrics/functional/text/cer.py\u001b[0m in \u001b[0;36m_cer_update\u001b[0;34m(preds, target)\u001b[0m\n\u001b[1;32m     44\u001b[0m         \u001b[0mpred_tokens\u001b[0m \u001b[0;34m=\u001b[0m \u001b[0mpred\u001b[0m\u001b[0;34m\u001b[0m\u001b[0;34m\u001b[0m\u001b[0m\n\u001b[1;32m     45\u001b[0m         \u001b[0mtgt_tokens\u001b[0m \u001b[0;34m=\u001b[0m \u001b[0mtgt\u001b[0m\u001b[0;34m\u001b[0m\u001b[0;34m\u001b[0m\u001b[0m\n\u001b[0;32m---> 46\u001b[0;31m         \u001b[0merrors\u001b[0m \u001b[0;34m+=\u001b[0m \u001b[0m_edit_distance\u001b[0m\u001b[0;34m(\u001b[0m\u001b[0mlist\u001b[0m\u001b[0;34m(\u001b[0m\u001b[0mpred_tokens\u001b[0m\u001b[0;34m)\u001b[0m\u001b[0;34m,\u001b[0m \u001b[0mlist\u001b[0m\u001b[0;34m(\u001b[0m\u001b[0mtgt_tokens\u001b[0m\u001b[0;34m)\u001b[0m\u001b[0;34m)\u001b[0m\u001b[0;34m\u001b[0m\u001b[0;34m\u001b[0m\u001b[0m\n\u001b[0m\u001b[1;32m     47\u001b[0m         \u001b[0mtotal\u001b[0m \u001b[0;34m+=\u001b[0m \u001b[0mlen\u001b[0m\u001b[0;34m(\u001b[0m\u001b[0mtgt_tokens\u001b[0m\u001b[0;34m)\u001b[0m\u001b[0;34m\u001b[0m\u001b[0;34m\u001b[0m\u001b[0m\n\u001b[1;32m     48\u001b[0m     \u001b[0;32mreturn\u001b[0m \u001b[0merrors\u001b[0m\u001b[0;34m,\u001b[0m \u001b[0mtotal\u001b[0m\u001b[0;34m\u001b[0m\u001b[0;34m\u001b[0m\u001b[0m\n",
            "\u001b[0;32m/usr/local/lib/python3.8/dist-packages/torchmetrics/functional/text/helper.py\u001b[0m in \u001b[0;36m_edit_distance\u001b[0;34m(prediction_tokens, reference_tokens)\u001b[0m\n\u001b[1;32m    347\u001b[0m     \u001b[0;32mfor\u001b[0m \u001b[0mi\u001b[0m \u001b[0;32min\u001b[0m \u001b[0mrange\u001b[0m\u001b[0;34m(\u001b[0m\u001b[0;36m1\u001b[0m\u001b[0;34m,\u001b[0m \u001b[0mlen\u001b[0m\u001b[0;34m(\u001b[0m\u001b[0mprediction_tokens\u001b[0m\u001b[0;34m)\u001b[0m \u001b[0;34m+\u001b[0m \u001b[0;36m1\u001b[0m\u001b[0;34m)\u001b[0m\u001b[0;34m:\u001b[0m\u001b[0;34m\u001b[0m\u001b[0;34m\u001b[0m\u001b[0m\n\u001b[1;32m    348\u001b[0m         \u001b[0;32mfor\u001b[0m \u001b[0mj\u001b[0m \u001b[0;32min\u001b[0m \u001b[0mrange\u001b[0m\u001b[0;34m(\u001b[0m\u001b[0;36m1\u001b[0m\u001b[0;34m,\u001b[0m \u001b[0mlen\u001b[0m\u001b[0;34m(\u001b[0m\u001b[0mreference_tokens\u001b[0m\u001b[0;34m)\u001b[0m \u001b[0;34m+\u001b[0m \u001b[0;36m1\u001b[0m\u001b[0;34m)\u001b[0m\u001b[0;34m:\u001b[0m\u001b[0;34m\u001b[0m\u001b[0;34m\u001b[0m\u001b[0m\n\u001b[0;32m--> 349\u001b[0;31m             \u001b[0;32mif\u001b[0m \u001b[0mprediction_tokens\u001b[0m\u001b[0;34m[\u001b[0m\u001b[0mi\u001b[0m \u001b[0;34m-\u001b[0m \u001b[0;36m1\u001b[0m\u001b[0;34m]\u001b[0m \u001b[0;34m==\u001b[0m \u001b[0mreference_tokens\u001b[0m\u001b[0;34m[\u001b[0m\u001b[0mj\u001b[0m \u001b[0;34m-\u001b[0m \u001b[0;36m1\u001b[0m\u001b[0;34m]\u001b[0m\u001b[0;34m:\u001b[0m\u001b[0;34m\u001b[0m\u001b[0;34m\u001b[0m\u001b[0m\n\u001b[0m\u001b[1;32m    350\u001b[0m                 \u001b[0mdp\u001b[0m\u001b[0;34m[\u001b[0m\u001b[0mi\u001b[0m\u001b[0;34m]\u001b[0m\u001b[0;34m[\u001b[0m\u001b[0mj\u001b[0m\u001b[0;34m]\u001b[0m \u001b[0;34m=\u001b[0m \u001b[0mdp\u001b[0m\u001b[0;34m[\u001b[0m\u001b[0mi\u001b[0m \u001b[0;34m-\u001b[0m \u001b[0;36m1\u001b[0m\u001b[0;34m]\u001b[0m\u001b[0;34m[\u001b[0m\u001b[0mj\u001b[0m \u001b[0;34m-\u001b[0m \u001b[0;36m1\u001b[0m\u001b[0;34m]\u001b[0m\u001b[0;34m\u001b[0m\u001b[0;34m\u001b[0m\u001b[0m\n\u001b[1;32m    351\u001b[0m             \u001b[0;32melse\u001b[0m\u001b[0;34m:\u001b[0m\u001b[0;34m\u001b[0m\u001b[0;34m\u001b[0m\u001b[0m\n",
            "\u001b[0;31mKeyboardInterrupt\u001b[0m: "
          ]
        }
      ]
    },
    {
      "cell_type": "markdown",
      "source": [
        "Очень долго обучается, попробую написать простую сеть."
      ],
      "metadata": {
        "id": "hfnGcP-iAOGu"
      }
    },
    {
      "cell_type": "markdown",
      "source": [
        "# Модель 2"
      ],
      "metadata": {
        "id": "_XAnlY_yDLNr"
      }
    },
    {
      "cell_type": "code",
      "source": [
        "class SimpleCnn(nn.Module):\n",
        "  \n",
        "    def __init__(self, n_classes):\n",
        "        super().__init__()\n",
        "        self.conv = nn.Sequential(\n",
        "            nn.Conv2d(3, 8, kernel_size=4, stride=2, padding=1, bias=False),\n",
        "            nn.BatchNorm2d(8),\n",
        "            nn.LeakyReLU(0.2, inplace=True),\n",
        "\n",
        "            nn.Conv2d(8, 16, kernel_size=4, stride=2, padding=1, bias=False),\n",
        "            nn.BatchNorm2d(16),\n",
        "            nn.LeakyReLU(0.2, inplace=True),\n",
        "\n",
        "            nn.Conv2d(16, 32, kernel_size=4, stride=2, padding=1, bias=False),\n",
        "            nn.BatchNorm2d(32),\n",
        "            nn.LeakyReLU(0.2, inplace=True),\n",
        "\n",
        "            nn.Conv2d(32, 64, kernel_size=4, stride=2, padding=1, bias=False),\n",
        "            nn.BatchNorm2d(64),\n",
        "            nn.LeakyReLU(0.2, inplace=True),\n",
        "\n",
        "            nn.Conv2d(64, 128, kernel_size=4, stride=2, padding=1, bias=False),\n",
        "            nn.BatchNorm2d(128),\n",
        "            nn.LeakyReLU(0.2, inplace=True),\n",
        "\n",
        "            nn.Flatten()\n",
        "        )\n",
        "  \n",
        "        \n",
        "        self.out = nn.Linear(18432, n_classes)\n",
        "  \n",
        "  \n",
        "    def forward(self, x):\n",
        "        x = self.conv(x)\n",
        "        logits = self.out(x)\n",
        "        return logits\n",
        "model2 = SimpleCnn(234).to(device)"
      ],
      "metadata": {
        "id": "FiEGPAanAXDS"
      },
      "execution_count": null,
      "outputs": []
    },
    {
      "cell_type": "markdown",
      "source": [
        "Тоже долго обучается. Полагаю из-за больших размеров трэйна"
      ],
      "metadata": {
        "id": "iF_cTn3HMNjf"
      }
    },
    {
      "cell_type": "code",
      "source": [
        "history = train(train_loader, test_loader, model2, 5, batch_size)"
      ],
      "metadata": {
        "colab": {
          "base_uri": "https://localhost:8080/"
        },
        "id": "Z2LMo00yDqvF",
        "outputId": "47c98a91-98f8-4aab-c8cf-da0828a4f496"
      },
      "execution_count": null,
      "outputs": [
        {
          "output_type": "stream",
          "name": "stderr",
          "text": [
            "\repoch:   0%|          | 0/5 [00:00<?, ?it/s]"
          ]
        }
      ]
    },
    {
      "cell_type": "code",
      "source": [
        "history = train(train_loader, test_loader, model2, 5, batch_size)"
      ],
      "metadata": {
        "id": "VJ5bhCfsK1Se"
      },
      "execution_count": null,
      "outputs": []
    },
    {
      "cell_type": "code",
      "source": [],
      "metadata": {
        "id": "TzTwP410K1M1"
      },
      "execution_count": null,
      "outputs": []
    }
  ]
}